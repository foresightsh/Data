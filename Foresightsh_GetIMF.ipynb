{
 "cells": [
  {
   "cell_type": "markdown",
   "id": "ce7d3342-732d-4d4b-b6ee-a5558f2ac6d7",
   "metadata": {},
   "source": [
    "_General information_\n",
    "\n",
    "_Author: Nourou-Dine YESSOUFOU_ \n",
    "\n",
    "_Engineer Statistician and Economist, Data scientist_"
   ]
  },
  {
   "cell_type": "markdown",
   "id": "57cab138-4212-4e50-9c02-0bdad08f302b",
   "metadata": {
    "tags": []
   },
   "source": [
    "# Introduction\n",
    "\n",
    "Hi!\n",
    "\n",
    "I'm going to be showing here how to retrieve macroeconomic data from IMF (International Monetary Found) data warehouse into your application using their APIs. Before we start, let's keep in mind few things:\n",
    "\n",
    "- The base link to get access to any data via API is: \"http://dataservices.imf.org/REST/SDMX_JSON.svc/\"\n",
    "- Any data resquest to the API is in the format: \"http://dataservices.imf.org/REST/SDMX_JSON.svc/CompactData/{database ID}/{frequency}.{item1 from dimension1}+{item2 from dimension1}+{item N from dimension1}.{item1 from dimension2}+{item2 from dimension2}+{item M from dimension2}?startPeriod={start date}&endPeriod={end date}\"\n",
    "\n",
    "'CompactData' refers to a method. IMF API actually gives access to data through some methods depending on the kind of data we are looking for."
   ]
  },
  {
   "cell_type": "markdown",
   "id": "da3af7e5-4cdb-4bcc-827e-f9b3dcef85bc",
   "metadata": {},
   "source": [
    "Here are available methods.\n",
    "\n",
    "- Dataflow\n",
    "- DataStructure\n",
    "- CompactData\n",
    "- MetadataStructure\n",
    "- GenericMetadata\n",
    "- CodeList\n",
    "- MaxSeriesInResult\n",
    "\n",
    "Get to know more about these methodes by clicking <a href=\"https://datahelp.imf.org/knowledgebase/articles/667681-json-restful-web-service\">here</a>\n",
    "\n",
    "Let's get started. Our objective is to build a link like this : http://dataservices.imf.org/REST/SDMX_JSON.svc/CompactData/DOT/A.SN.TMG_CIF_USD.FR and retrive all the data available there and then more interesting things ! This link contains the annual import of Senegal from France since 1960. \n",
    "\n",
    "We start by exploring the diversity of data we can get access to through IMF API. This is possible thanks to \"Dataflow\" method."
   ]
  },
  {
   "cell_type": "markdown",
   "id": "7daed83a-22a5-408c-9c15-230a15a6d57d",
   "metadata": {},
   "source": [
    "# The Dataflow method\n",
    "\n",
    "If you have a look at <a href=\"https://datahelp.imf.org/knowledgebase/articles/667681-json-restful-web-service\">IMF DATA</a>, you will notice a list of databases categories which are the series availables. \n",
    "\n",
    "The **Dataflow** method offers JSON formatted information about which series are available through the API. To find a specoific series of interest (for example Direction of Trade Statistics DOT), you can use the **search_imf_series()** function below."
   ]
  },
  {
   "cell_type": "code",
   "execution_count": 63,
   "id": "9e433e77-f894-41cd-875c-803800cfd3ab",
   "metadata": {
    "tags": []
   },
   "outputs": [],
   "source": [
    "# Import packages\n",
    "import requests\n",
    "import pandas as pd\n",
    "\n",
    "# We define a function taking a key word as argument.\n",
    "def search_imf_series(search_term=''):\n",
    "    url = 'http://dataservices.imf.org/REST/SDMX_JSON.svc/'\n",
    "    key = 'Dataflow'  # Method with series information\n",
    "    series_list = requests.get(f'{url}{key}').json()['Structure']['Dataflows']['Dataflow']\n",
    "    output_list = []\n",
    "    # Use dict keys to navigate through results:\n",
    "    for series in series_list:\n",
    "        if search_term in series['Name']['#text']:\n",
    "            output_list.append([series['Name']['#text'], series['KeyFamilyRef']['KeyFamilyID']])\n",
    "    return pd.DataFrame(output_list, columns = [\"Description\", \"Series Code\"])"
   ]
  },
  {
   "cell_type": "markdown",
   "id": "14b93bd1-2f92-48b5-a0ea-151f13e9a83c",
   "metadata": {},
   "source": []
  },
  {
   "cell_type": "markdown",
   "id": "e254b6df-28fc-42d2-8cad-2a627cac8956",
   "metadata": {},
   "source": [
    "Assuming I'm looking for information about Trade. I will type \"Trade\" as search_term"
   ]
  },
  {
   "cell_type": "code",
   "execution_count": 64,
   "id": "8dcba215-b192-4b2f-b612-a073bd045e86",
   "metadata": {},
   "outputs": [
    {
     "data": {
      "text/html": [
       "<div>\n",
       "<style scoped>\n",
       "    .dataframe tbody tr th:only-of-type {\n",
       "        vertical-align: middle;\n",
       "    }\n",
       "\n",
       "    .dataframe tbody tr th {\n",
       "        vertical-align: top;\n",
       "    }\n",
       "\n",
       "    .dataframe thead th {\n",
       "        text-align: right;\n",
       "    }\n",
       "</style>\n",
       "<table border=\"1\" class=\"dataframe\">\n",
       "  <thead>\n",
       "    <tr style=\"text-align: right;\">\n",
       "      <th></th>\n",
       "      <th>Description</th>\n",
       "      <th>Series Code</th>\n",
       "    </tr>\n",
       "  </thead>\n",
       "  <tbody>\n",
       "    <tr>\n",
       "      <th>0</th>\n",
       "      <td>Direction of Trade Statistics (DOTS), 2020 Q1</td>\n",
       "      <td>DOT_2020Q1</td>\n",
       "    </tr>\n",
       "    <tr>\n",
       "      <th>1</th>\n",
       "      <td>Direction of Trade Statistics (DOTS), 2018 Q3</td>\n",
       "      <td>DOT_2018Q3</td>\n",
       "    </tr>\n",
       "    <tr>\n",
       "      <th>2</th>\n",
       "      <td>Direction of Trade Statistics (DOTS), 2018 Q2</td>\n",
       "      <td>DOT_2018Q2</td>\n",
       "    </tr>\n",
       "    <tr>\n",
       "      <th>3</th>\n",
       "      <td>Direction of Trade Statistics (DOTS), 2019 Q1</td>\n",
       "      <td>DOT_2019Q1</td>\n",
       "    </tr>\n",
       "    <tr>\n",
       "      <th>4</th>\n",
       "      <td>Direction of Trade Statistics (DOTS), 2017 Q2</td>\n",
       "      <td>DOT_2017Q2</td>\n",
       "    </tr>\n",
       "    <tr>\n",
       "      <th>5</th>\n",
       "      <td>Direction of Trade Statistics (DOTS), 2018 Q1</td>\n",
       "      <td>DOT_2018Q1</td>\n",
       "    </tr>\n",
       "    <tr>\n",
       "      <th>6</th>\n",
       "      <td>Direction of Trade Statistics (DOTS), 2019 Q4</td>\n",
       "      <td>DOT_2019Q4</td>\n",
       "    </tr>\n",
       "    <tr>\n",
       "      <th>7</th>\n",
       "      <td>Direction of Trade Statistics (DOTS), 2017 Q4</td>\n",
       "      <td>DOT_2017Q4</td>\n",
       "    </tr>\n",
       "    <tr>\n",
       "      <th>8</th>\n",
       "      <td>Direction of Trade Statistics (DOTS), 2019 Q2</td>\n",
       "      <td>DOT_2019Q2</td>\n",
       "    </tr>\n",
       "    <tr>\n",
       "      <th>9</th>\n",
       "      <td>Direction of Trade Statistics (DOTS), 2020 Q2</td>\n",
       "      <td>DOT_2020Q2</td>\n",
       "    </tr>\n",
       "    <tr>\n",
       "      <th>10</th>\n",
       "      <td>Direction of Trade Statistics (DOTS), 2018 Q4</td>\n",
       "      <td>DOT_2018Q4</td>\n",
       "    </tr>\n",
       "    <tr>\n",
       "      <th>11</th>\n",
       "      <td>Direction of Trade Statistics (DOTS), 2019 Q3</td>\n",
       "      <td>DOT_2019Q3</td>\n",
       "    </tr>\n",
       "    <tr>\n",
       "      <th>12</th>\n",
       "      <td>Direction of Trade Statistics (DOTS), 2017 Q3</td>\n",
       "      <td>DOT_2017Q3</td>\n",
       "    </tr>\n",
       "    <tr>\n",
       "      <th>13</th>\n",
       "      <td>Direction of Trade Statistics (DOTS), 2017 Q1</td>\n",
       "      <td>DOT_2017Q1</td>\n",
       "    </tr>\n",
       "    <tr>\n",
       "      <th>14</th>\n",
       "      <td>Direction of Trade Statistics (DOTS), 2020 Q4</td>\n",
       "      <td>DOT_2020Q4</td>\n",
       "    </tr>\n",
       "    <tr>\n",
       "      <th>15</th>\n",
       "      <td>Direction of Trade Statistics (DOTS), 2020 Q3</td>\n",
       "      <td>DOT_2020Q3</td>\n",
       "    </tr>\n",
       "    <tr>\n",
       "      <th>16</th>\n",
       "      <td>Direction of Trade Statistics (DOTS), 2021 Q1</td>\n",
       "      <td>DOT_2021Q1</td>\n",
       "    </tr>\n",
       "    <tr>\n",
       "      <th>17</th>\n",
       "      <td>Commodity Terms of Trade</td>\n",
       "      <td>PCTOT</td>\n",
       "    </tr>\n",
       "    <tr>\n",
       "      <th>18</th>\n",
       "      <td>Direction of Trade Statistics (DOTS), 2022 Q3</td>\n",
       "      <td>DOT_2022Q3</td>\n",
       "    </tr>\n",
       "    <tr>\n",
       "      <th>19</th>\n",
       "      <td>Direction of Trade Statistics (DOTS), 2023 Q1</td>\n",
       "      <td>DOT_2023Q1</td>\n",
       "    </tr>\n",
       "    <tr>\n",
       "      <th>20</th>\n",
       "      <td>Direction of Trade Statistics (DOTS), 2022 Q2</td>\n",
       "      <td>DOT_2022Q2</td>\n",
       "    </tr>\n",
       "    <tr>\n",
       "      <th>21</th>\n",
       "      <td>Direction of Trade Statistics (DOTS), 2022 Q1</td>\n",
       "      <td>DOT_2022Q1</td>\n",
       "    </tr>\n",
       "    <tr>\n",
       "      <th>22</th>\n",
       "      <td>Direction of Trade Statistics (DOTS), 2021 Q4</td>\n",
       "      <td>DOT_2021Q4</td>\n",
       "    </tr>\n",
       "    <tr>\n",
       "      <th>23</th>\n",
       "      <td>Direction of Trade Statistics (DOTS), 2022 Q4</td>\n",
       "      <td>DOT_2022Q4</td>\n",
       "    </tr>\n",
       "    <tr>\n",
       "      <th>24</th>\n",
       "      <td>Direction of Trade Statistics (DOTS), 2021 Q2</td>\n",
       "      <td>DOT_2021Q2</td>\n",
       "    </tr>\n",
       "    <tr>\n",
       "      <th>25</th>\n",
       "      <td>Direction of Trade Statistics (DOTS), 2021 Q3</td>\n",
       "      <td>DOT_2021Q3</td>\n",
       "    </tr>\n",
       "    <tr>\n",
       "      <th>26</th>\n",
       "      <td>Direction of Trade Statistics (DOTS)</td>\n",
       "      <td>DOT</td>\n",
       "    </tr>\n",
       "  </tbody>\n",
       "</table>\n",
       "</div>"
      ],
      "text/plain": [
       "                                      Description Series Code\n",
       "0   Direction of Trade Statistics (DOTS), 2020 Q1  DOT_2020Q1\n",
       "1   Direction of Trade Statistics (DOTS), 2018 Q3  DOT_2018Q3\n",
       "2   Direction of Trade Statistics (DOTS), 2018 Q2  DOT_2018Q2\n",
       "3   Direction of Trade Statistics (DOTS), 2019 Q1  DOT_2019Q1\n",
       "4   Direction of Trade Statistics (DOTS), 2017 Q2  DOT_2017Q2\n",
       "5   Direction of Trade Statistics (DOTS), 2018 Q1  DOT_2018Q1\n",
       "6   Direction of Trade Statistics (DOTS), 2019 Q4  DOT_2019Q4\n",
       "7   Direction of Trade Statistics (DOTS), 2017 Q4  DOT_2017Q4\n",
       "8   Direction of Trade Statistics (DOTS), 2019 Q2  DOT_2019Q2\n",
       "9   Direction of Trade Statistics (DOTS), 2020 Q2  DOT_2020Q2\n",
       "10  Direction of Trade Statistics (DOTS), 2018 Q4  DOT_2018Q4\n",
       "11  Direction of Trade Statistics (DOTS), 2019 Q3  DOT_2019Q3\n",
       "12  Direction of Trade Statistics (DOTS), 2017 Q3  DOT_2017Q3\n",
       "13  Direction of Trade Statistics (DOTS), 2017 Q1  DOT_2017Q1\n",
       "14  Direction of Trade Statistics (DOTS), 2020 Q4  DOT_2020Q4\n",
       "15  Direction of Trade Statistics (DOTS), 2020 Q3  DOT_2020Q3\n",
       "16  Direction of Trade Statistics (DOTS), 2021 Q1  DOT_2021Q1\n",
       "17                       Commodity Terms of Trade       PCTOT\n",
       "18  Direction of Trade Statistics (DOTS), 2022 Q3  DOT_2022Q3\n",
       "19  Direction of Trade Statistics (DOTS), 2023 Q1  DOT_2023Q1\n",
       "20  Direction of Trade Statistics (DOTS), 2022 Q2  DOT_2022Q2\n",
       "21  Direction of Trade Statistics (DOTS), 2022 Q1  DOT_2022Q1\n",
       "22  Direction of Trade Statistics (DOTS), 2021 Q4  DOT_2021Q4\n",
       "23  Direction of Trade Statistics (DOTS), 2022 Q4  DOT_2022Q4\n",
       "24  Direction of Trade Statistics (DOTS), 2021 Q2  DOT_2021Q2\n",
       "25  Direction of Trade Statistics (DOTS), 2021 Q3  DOT_2021Q3\n",
       "26           Direction of Trade Statistics (DOTS)         DOT"
      ]
     },
     "execution_count": 64,
     "metadata": {},
     "output_type": "execute_result"
    }
   ],
   "source": [
    "## Find a database by keywords\n",
    "LIST = search_imf_series(\"Trade\")\n",
    "LIST"
   ]
  },
  {
   "cell_type": "markdown",
   "id": "4302dc63-967b-4854-9b5d-8baa801f7d2b",
   "metadata": {},
   "source": [
    "I have the list of all series available about trade and their corresponding code. THe code linked to the series \"Direction of Trade Statistics\" is \"DOT\". This is our **database ID** and will be useful in the next steps."
   ]
  },
  {
   "cell_type": "markdown",
   "id": "6dfba3f3-2e90-4a41-a549-3b294f367bb1",
   "metadata": {},
   "source": [
    "# Dimensions of a series\n",
    "\n",
    "Now that we know the ID of our database (series containing many data tables), we need to know the format of the **key** required to get data tables from the series. \n",
    "\n",
    "The dimensions of the data are found with the **DataStructure** method and series specific. Use the following function to know the dimensions of \"DOT\" series."
   ]
  },
  {
   "cell_type": "code",
   "execution_count": 65,
   "id": "ec6683b9-05c9-48c9-9550-3f075465a5fb",
   "metadata": {},
   "outputs": [],
   "source": [
    "def dimension_idf_series(series='DOT'):\n",
    "    url = 'http://dataservices.imf.org/REST/SDMX_JSON.svc/'\n",
    "    key = f'DataStructure/{series}'  # Method / series\n",
    "    key = f'DataStructure/DOT'  # Method / series\n",
    "    dimension_list = requests.get(f'{url}{key}').json()['Structure']['KeyFamilies']['KeyFamily']['Components']['Dimension']\n",
    "    dimension_list2 = []\n",
    "    for i in dimension_list:\n",
    "        dimension_list2.append(i['@codelist'])\n",
    "    return dimension_list2"
   ]
  },
  {
   "cell_type": "markdown",
   "id": "e2c9e9e9-e394-4725-8136-41a7f08eb2eb",
   "metadata": {},
   "source": [
    "Ci-dessous les dimensions de la série \"DOT\""
   ]
  },
  {
   "cell_type": "code",
   "execution_count": 66,
   "id": "beef9ebf-115b-4ebe-99d0-43ad390967d4",
   "metadata": {},
   "outputs": [
    {
     "data": {
      "text/plain": [
       "['CL_FREQ', 'CL_AREA_DOT', 'CL_INDICATOR_DOT', 'CL_COUNTERPART_AREA_DOT']"
      ]
     },
     "execution_count": 66,
     "metadata": {},
     "output_type": "execute_result"
    }
   ],
   "source": [
    "dimension_idf_series('DOT')"
   ]
  },
  {
   "cell_type": "markdown",
   "id": "aee96679-eba0-417c-a7c2-e6c5de82e5c2",
   "metadata": {},
   "source": [
    "DOT has four dimensions. The dimensions correspond to: 1) frequency of the Data which can be **M** for monthly, **Q** for quarterly and **A** for annually, 2) first country or reference area 3) indicator (such as total exports), and 4) second country or reference area. \n",
    "\n",
    "For example, the key \"A.SN.TXG_FOB.FR\" refers to the annually value of goods exports from Senegal to France. Each dimension is seperated by a period."
   ]
  },
  {
   "cell_type": "markdown",
   "id": "99f0a586-4bc9-414f-82d4-a40593ba385f",
   "metadata": {},
   "source": [
    "# Finding the codes for each dimension\n",
    "\n",
    "The codes which correspond to the dimensions identified above are combined, in order, and separated by periods, to complete the API request url. To find the list of possible codes for each dimension, we can use the **CodeList** method, shown below for dimension 3, indicators CL_INDICATOR_DOT.\n",
    "\n",
    "**Below is therefore just an example for the dimension three. Same applies for the other dimensions**"
   ]
  },
  {
   "cell_type": "code",
   "execution_count": 67,
   "id": "8b1b2a1b-2a7f-4319-adb5-340469cfa8f5",
   "metadata": {},
   "outputs": [],
   "source": [
    "# Example: codes for third dimension, which is 2 in python\n",
    "def codeDim_imf_serie(dimension=''):\n",
    "    url = 'http://dataservices.imf.org/REST/SDMX_JSON.svc/'\n",
    "    key = f\"CodeList/{dimension}\"\n",
    "    print(key)\n",
    "    requests.get(f'{url}{key}')\n",
    "    requests.get(f'{url}{key}').json()['Structure']['CodeLists']['CodeList']['Code']\n",
    "    code_list = requests.get(f'{url}{key}').json()['Structure']['CodeLists']['CodeList']['Code']\n",
    "    code_list\n",
    "    outlist = []\n",
    "    for code in code_list:\n",
    "        outlist.append([code['Description']['#text'], code['@value']])\n",
    "    return pd.DataFrame(outlist)"
   ]
  },
  {
   "cell_type": "code",
   "execution_count": 68,
   "id": "9cf9b870-4837-4634-acb1-a0223daf8da5",
   "metadata": {},
   "outputs": [
    {
     "name": "stdout",
     "output_type": "stream",
     "text": [
      "CodeList/CL_AREA_DOT\n",
      "Liste of possible values for dimension CL_AREA_DOT:\n",
      "                                                      0       1\n",
      "0                                          Afghanistan      AF\n",
      "1                                 Africa not allocated     F19\n",
      "2                                              Albania      AL\n",
      "3                                              Algeria      DZ\n",
      "4                                       American Samoa      AS\n",
      "..                                                 ...     ...\n",
      "242  Middle East, North Africa, Afghanistan, and Pa...  1C_440\n",
      "243                       Other Countries n.i.e. (IMF)     X88\n",
      "244                                 Sub-Saharan Africa      F6\n",
      "245                                 Western Hemisphere     A10\n",
      "246                    All Countries, excluding the IO     W00\n",
      "\n",
      "[247 rows x 2 columns]\n",
      "CodeList/CL_INDICATOR_DOT\n",
      "Liste of possible values for dimension CL_INDICATOR_DOT:\n",
      "                                                    0            1\n",
      "0  Goods, Value of Exports, Free on board (FOB), ...  TXG_FOB_USD\n",
      "1  Goods, Value of Imports, Cost, Insurance, Frei...  TMG_CIF_USD\n",
      "2  Goods, Value of Imports, Free on board (FOB), ...  TMG_FOB_USD\n",
      "3          Goods, Value of Trade Balance, US Dollars      TBG_USD\n",
      "CodeList/CL_COUNTERPART_AREA_DOT\n",
      "Liste of possible values for dimension CL_COUNTERPART_AREA_DOT:\n",
      "                                                      0       1\n",
      "0                                          Afghanistan      AF\n",
      "1                                 Africa not allocated     F19\n",
      "2                                              Albania      AL\n",
      "3                                              Algeria      DZ\n",
      "4                                       American Samoa      AS\n",
      "..                                                 ...     ...\n",
      "242  Middle East, North Africa, Afghanistan, and Pa...  1C_440\n",
      "243                       Other Countries n.i.e. (IMF)     X88\n",
      "244                                 Sub-Saharan Africa      F6\n",
      "245                                 Western Hemisphere     A10\n",
      "246                    All Countries, excluding the IO     W00\n",
      "\n",
      "[247 rows x 2 columns]\n"
     ]
    }
   ],
   "source": [
    "print(\"Liste of possible values for dimension CL_AREA_DOT:\\n\", codeDim_imf_serie(\"CL_AREA_DOT\"))\n",
    "print(\"Liste of possible values for dimension CL_INDICATOR_DOT:\\n\", codeDim_imf_serie(\"CL_INDICATOR_DOT\"))\n",
    "print(\"Liste of possible values for dimension CL_COUNTERPART_AREA_DOT:\\n\", codeDim_imf_serie(\"CL_COUNTERPART_AREA_DOT\"))"
   ]
  },
  {
   "cell_type": "markdown",
   "id": "741a7bac-8bb3-4c77-af99-51ba62779c73",
   "metadata": {},
   "source": [
    "# Final request link and data extraction"
   ]
  },
  {
   "cell_type": "markdown",
   "id": "9c8edf01-9ff1-4215-9cd9-60bba44a8254",
   "metadata": {},
   "source": [
    "We've gathered all information needed to make the request ! Let's proceed."
   ]
  },
  {
   "cell_type": "code",
   "execution_count": 69,
   "id": "e85d09d6-881e-4e91-adef-f3ba4c09d0c4",
   "metadata": {},
   "outputs": [],
   "source": [
    "url = 'http://dataservices.imf.org/REST/SDMX_JSON.svc/'\n",
    "#startdate='1960-04'\n",
    "#enddate='2023-04'\n",
    "# If you want to specify period\n",
    "# key = f'CompactData/DOT/M.F6.TMG_CIF_USD.US/?startPeriod={startdate}&endPeriod={enddate}'\n",
    "key = f'CompactData/DOT/A.SN.TMG_CIF_USD.FR' # adjust codes here\n",
    "request_link = f'{url}{key}'\n",
    "# Navigate to series in API-returned JSON data\n",
    "data = (requests.get(request_link).json()['CompactData']['DataSet']['Series'])"
   ]
  },
  {
   "cell_type": "code",
   "execution_count": 70,
   "id": "012cd65a-3ed7-485f-b70c-5ba75212870f",
   "metadata": {},
   "outputs": [
    {
     "name": "stdout",
     "output_type": "stream",
     "text": [
      "http://dataservices.imf.org/REST/SDMX_JSON.svc/CompactData/DOT/A.SN.TMG_CIF_USD.FR\n"
     ]
    }
   ],
   "source": [
    "print(request_link)"
   ]
  },
  {
   "cell_type": "code",
   "execution_count": 71,
   "id": "ef27edc4-1a43-4e0f-a668-48914defd07c",
   "metadata": {},
   "outputs": [
    {
     "data": {
      "text/plain": [
       "{'@FREQ': 'A',\n",
       " '@REF_AREA': 'SN',\n",
       " '@INDICATOR': 'TMG_CIF_USD',\n",
       " '@COUNTERPART_AREA': 'FR',\n",
       " '@UNIT_MULT': '6',\n",
       " '@TIME_FORMAT': 'P1Y',\n",
       " 'Obs': [{'@TIME_PERIOD': '1960', '@OBS_VALUE': '118.2'},\n",
       "  {'@TIME_PERIOD': '1961', '@OBS_VALUE': '103.1'},\n",
       "  {'@TIME_PERIOD': '1962', '@OBS_VALUE': '100.6'},\n",
       "  {'@TIME_PERIOD': '1963', '@OBS_VALUE': '102.5'},\n",
       "  {'@TIME_PERIOD': '1964', '@OBS_VALUE': '100.8'},\n",
       "  {'@TIME_PERIOD': '1965', '@OBS_VALUE': '87.4'},\n",
       "  {'@TIME_PERIOD': '1966', '@OBS_VALUE': '82.2'},\n",
       "  {'@TIME_PERIOD': '1967', '@OBS_VALUE': '75.543'},\n",
       "  {'@TIME_PERIOD': '1968', '@OBS_VALUE': '78.8'},\n",
       "  {'@TIME_PERIOD': '1969', '@OBS_VALUE': '84.261'},\n",
       "  {'@TIME_PERIOD': '1970', '@OBS_VALUE': '98.996'},\n",
       "  {'@TIME_PERIOD': '1971', '@OBS_VALUE': '103.309'},\n",
       "  {'@TIME_PERIOD': '1972', '@OBS_VALUE': '137.083'},\n",
       "  {'@TIME_PERIOD': '1973', '@OBS_VALUE': '167.5'},\n",
       "  {'@TIME_PERIOD': '1974', '@OBS_VALUE': '184.225'},\n",
       "  {'@TIME_PERIOD': '1975', '@OBS_VALUE': '240.981'},\n",
       "  {'@TIME_PERIOD': '1976', '@OBS_VALUE': '261.767'},\n",
       "  {'@TIME_PERIOD': '1977', '@OBS_VALUE': '305.556'},\n",
       "  {'@TIME_PERIOD': '1978', '@OBS_VALUE': '296.1'},\n",
       "  {'@TIME_PERIOD': '1979', '@OBS_VALUE': '356.008'},\n",
       "  {'@TIME_PERIOD': '1980', '@OBS_VALUE': '354.711'},\n",
       "  {'@TIME_PERIOD': '1981', '@OBS_VALUE': '335.846'},\n",
       "  {'@TIME_PERIOD': '1982', '@OBS_VALUE': '333.23'},\n",
       "  {'@TIME_PERIOD': '1983', '@OBS_VALUE': '359.002137653372'},\n",
       "  {'@TIME_PERIOD': '1984', '@OBS_VALUE': '263.388678468135'},\n",
       "  {'@TIME_PERIOD': '1985', '@OBS_VALUE': '248.374414663705'},\n",
       "  {'@TIME_PERIOD': '1986', '@OBS_VALUE': '290.097228956687'},\n",
       "  {'@TIME_PERIOD': '1987', '@OBS_VALUE': '324.264611076066'},\n",
       "  {'@TIME_PERIOD': '1988', '@OBS_VALUE': '340.222274013651'},\n",
       "  {'@TIME_PERIOD': '1989', '@OBS_VALUE': '388.605935343651'},\n",
       "  {'@TIME_PERIOD': '1990', '@OBS_VALUE': '422.457940140764'},\n",
       "  {'@TIME_PERIOD': '1991', '@OBS_VALUE': '376.591386802234'},\n",
       "  {'@TIME_PERIOD': '1992', '@OBS_VALUE': '390.565029645904'},\n",
       "  {'@TIME_PERIOD': '1993', '@OBS_VALUE': '374.331776256286'},\n",
       "  {'@TIME_PERIOD': '1994', '@OBS_VALUE': '300.00380400375'},\n",
       "  {'@TIME_PERIOD': '1995', '@OBS_VALUE': '386.641619978098'},\n",
       "  {'@TIME_PERIOD': '1996', '@OBS_VALUE': '392.083094773201'},\n",
       "  {'@TIME_PERIOD': '1997', '@OBS_VALUE': '371.550943517207'},\n",
       "  {'@TIME_PERIOD': '1998', '@OBS_VALUE': '499.108192726343'},\n",
       "  {'@TIME_PERIOD': '1999', '@OBS_VALUE': '484.953277492525'},\n",
       "  {'@TIME_PERIOD': '2000', '@OBS_VALUE': '425.044525'},\n",
       "  {'@TIME_PERIOD': '2001', '@OBS_VALUE': '479.708464'},\n",
       "  {'@TIME_PERIOD': '2002', '@OBS_VALUE': '500.30987'},\n",
       "  {'@TIME_PERIOD': '2003', '@OBS_VALUE': '587.315793'},\n",
       "  {'@TIME_PERIOD': '2004', '@OBS_VALUE': '706.35722'},\n",
       "  {'@TIME_PERIOD': '2005', '@OBS_VALUE': '734.121644'},\n",
       "  {'@TIME_PERIOD': '2006', '@OBS_VALUE': '858.429612'},\n",
       "  {'@TIME_PERIOD': '2007', '@OBS_VALUE': '1015.903135'},\n",
       "  {'@TIME_PERIOD': '2008', '@OBS_VALUE': '999.836852'},\n",
       "  {'@TIME_PERIOD': '2009', '@OBS_VALUE': '882.1342'},\n",
       "  {'@TIME_PERIOD': '2010', '@OBS_VALUE': '878.807644'},\n",
       "  {'@TIME_PERIOD': '2011', '@OBS_VALUE': '958.450643'},\n",
       "  {'@TIME_PERIOD': '2012', '@OBS_VALUE': '938.062904'},\n",
       "  {'@TIME_PERIOD': '2013', '@OBS_VALUE': '1073.510676'},\n",
       "  {'@TIME_PERIOD': '2014', '@OBS_VALUE': '1111.986723'},\n",
       "  {'@TIME_PERIOD': '2015', '@OBS_VALUE': '935.993905'},\n",
       "  {'@TIME_PERIOD': '2016', '@OBS_VALUE': '870.972607'},\n",
       "  {'@TIME_PERIOD': '2017', '@OBS_VALUE': '984.696353'},\n",
       "  {'@TIME_PERIOD': '2018', '@OBS_VALUE': '1036.293643'},\n",
       "  {'@TIME_PERIOD': '2019', '@OBS_VALUE': '1366.600066'},\n",
       "  {'@TIME_PERIOD': '2020', '@OBS_VALUE': '1222.34261'},\n",
       "  {'@TIME_PERIOD': '2021', '@OBS_VALUE': '1141.01514'},\n",
       "  {'@TIME_PERIOD': '2022', '@OBS_VALUE': '1208.602124'}]}"
      ]
     },
     "execution_count": 71,
     "metadata": {},
     "output_type": "execute_result"
    }
   ],
   "source": [
    "data"
   ]
  },
  {
   "cell_type": "markdown",
   "id": "361c3d8f-588f-406d-9ef8-f560bcaa6c68",
   "metadata": {},
   "source": [
    "# From raw to dataframe"
   ]
  },
  {
   "cell_type": "code",
   "execution_count": 72,
   "id": "8d4f67c4-d1c5-40ed-885e-bbc6cce92cd4",
   "metadata": {},
   "outputs": [
    {
     "data": {
      "text/html": [
       "<div>\n",
       "<style scoped>\n",
       "    .dataframe tbody tr th:only-of-type {\n",
       "        vertical-align: middle;\n",
       "    }\n",
       "\n",
       "    .dataframe tbody tr th {\n",
       "        vertical-align: top;\n",
       "    }\n",
       "\n",
       "    .dataframe thead th {\n",
       "        text-align: right;\n",
       "    }\n",
       "</style>\n",
       "<table border=\"1\" class=\"dataframe\">\n",
       "  <thead>\n",
       "    <tr style=\"text-align: right;\">\n",
       "      <th></th>\n",
       "      <th>date</th>\n",
       "      <th>value</th>\n",
       "      <th>ExportCountry1</th>\n",
       "      <th>ExportCountry2</th>\n",
       "    </tr>\n",
       "  </thead>\n",
       "  <tbody>\n",
       "    <tr>\n",
       "      <th>0</th>\n",
       "      <td>1960</td>\n",
       "      <td>118.2</td>\n",
       "      <td>SN</td>\n",
       "      <td>FR</td>\n",
       "    </tr>\n",
       "    <tr>\n",
       "      <th>1</th>\n",
       "      <td>1961</td>\n",
       "      <td>103.1</td>\n",
       "      <td>SN</td>\n",
       "      <td>FR</td>\n",
       "    </tr>\n",
       "    <tr>\n",
       "      <th>2</th>\n",
       "      <td>1962</td>\n",
       "      <td>100.6</td>\n",
       "      <td>SN</td>\n",
       "      <td>FR</td>\n",
       "    </tr>\n",
       "    <tr>\n",
       "      <th>3</th>\n",
       "      <td>1963</td>\n",
       "      <td>102.5</td>\n",
       "      <td>SN</td>\n",
       "      <td>FR</td>\n",
       "    </tr>\n",
       "    <tr>\n",
       "      <th>4</th>\n",
       "      <td>1964</td>\n",
       "      <td>100.8</td>\n",
       "      <td>SN</td>\n",
       "      <td>FR</td>\n",
       "    </tr>\n",
       "    <tr>\n",
       "      <th>...</th>\n",
       "      <td>...</td>\n",
       "      <td>...</td>\n",
       "      <td>...</td>\n",
       "      <td>...</td>\n",
       "    </tr>\n",
       "    <tr>\n",
       "      <th>58</th>\n",
       "      <td>2018</td>\n",
       "      <td>1036.293643</td>\n",
       "      <td>SN</td>\n",
       "      <td>FR</td>\n",
       "    </tr>\n",
       "    <tr>\n",
       "      <th>59</th>\n",
       "      <td>2019</td>\n",
       "      <td>1366.600066</td>\n",
       "      <td>SN</td>\n",
       "      <td>FR</td>\n",
       "    </tr>\n",
       "    <tr>\n",
       "      <th>60</th>\n",
       "      <td>2020</td>\n",
       "      <td>1222.34261</td>\n",
       "      <td>SN</td>\n",
       "      <td>FR</td>\n",
       "    </tr>\n",
       "    <tr>\n",
       "      <th>61</th>\n",
       "      <td>2021</td>\n",
       "      <td>1141.01514</td>\n",
       "      <td>SN</td>\n",
       "      <td>FR</td>\n",
       "    </tr>\n",
       "    <tr>\n",
       "      <th>62</th>\n",
       "      <td>2022</td>\n",
       "      <td>1208.602124</td>\n",
       "      <td>SN</td>\n",
       "      <td>FR</td>\n",
       "    </tr>\n",
       "  </tbody>\n",
       "</table>\n",
       "<p>63 rows × 4 columns</p>\n",
       "</div>"
      ],
      "text/plain": [
       "    date        value ExportCountry1 ExportCountry2\n",
       "0   1960        118.2             SN             FR\n",
       "1   1961        103.1             SN             FR\n",
       "2   1962        100.6             SN             FR\n",
       "3   1963        102.5             SN             FR\n",
       "4   1964        100.8             SN             FR\n",
       "..   ...          ...            ...            ...\n",
       "58  2018  1036.293643             SN             FR\n",
       "59  2019  1366.600066             SN             FR\n",
       "60  2020   1222.34261             SN             FR\n",
       "61  2021   1141.01514             SN             FR\n",
       "62  2022  1208.602124             SN             FR\n",
       "\n",
       "[63 rows x 4 columns]"
      ]
     },
     "execution_count": 72,
     "metadata": {},
     "output_type": "execute_result"
    }
   ],
   "source": [
    "import pandas as pd\n",
    "\n",
    "data_list = [[obs.get('@TIME_PERIOD'), obs.get('@OBS_VALUE')] for obs in data['Obs']]\n",
    "df = pd.DataFrame(data_list, columns=['date', 'value'])\n",
    "df[\"ExportCountry1\"], df[\"ExportCountry2\"]=[\"SN\", \"FR\"]\n",
    "df"
   ]
  },
  {
   "cell_type": "markdown",
   "id": "d6372bf9-77a1-486f-b43c-1589dfe49422",
   "metadata": {},
   "source": [
    "So that's it!\n",
    "\n",
    "We've got our data on annual imports of Senegal from France until now. Now let's assume we would like to have this data not only between Senegal and France but also some many other couples of countries, which is generally required for some econometric modeling. This is what we show in next section."
   ]
  },
  {
   "cell_type": "markdown",
   "id": "1f21bbf1-9b44-47e1-ae75-313a17b429fd",
   "metadata": {},
   "source": [
    "# Get bilateral trade data "
   ]
  },
  {
   "cell_type": "markdown",
   "id": "47ef927b-c9aa-402f-9d23-cb4a685c3a32",
   "metadata": {
    "tags": []
   },
   "source": [
    "## Selecting the countries"
   ]
  },
  {
   "cell_type": "code",
   "execution_count": 74,
   "id": "09888947-a66f-44df-8c6c-d5aed169cbd8",
   "metadata": {},
   "outputs": [
    {
     "name": "stdout",
     "output_type": "stream",
     "text": [
      "CodeList/CL_AREA_DOT\n",
      "CodeList/CL_COUNTERPART_AREA_DOT\n",
      "                                                     0       1\n",
      "0                                          Afghanistan      AF\n",
      "1                                 Africa not allocated     F19\n",
      "2                                              Albania      AL\n",
      "3                                              Algeria      DZ\n",
      "4                                       American Samoa      AS\n",
      "..                                                 ...     ...\n",
      "242  Middle East, North Africa, Afghanistan, and Pa...  1C_440\n",
      "243                       Other Countries n.i.e. (IMF)     X88\n",
      "244                                 Sub-Saharan Africa      F6\n",
      "245                                 Western Hemisphere     A10\n",
      "246                    All Countries, excluding the IO     W00\n",
      "\n",
      "[247 rows x 2 columns]\n",
      "                                                     0       1\n",
      "0                                          Afghanistan      AF\n",
      "1                                 Africa not allocated     F19\n",
      "2                                              Albania      AL\n",
      "3                                              Algeria      DZ\n",
      "4                                       American Samoa      AS\n",
      "..                                                 ...     ...\n",
      "242  Middle East, North Africa, Afghanistan, and Pa...  1C_440\n",
      "243                       Other Countries n.i.e. (IMF)     X88\n",
      "244                                 Sub-Saharan Africa      F6\n",
      "245                                 Western Hemisphere     A10\n",
      "246                    All Countries, excluding the IO     W00\n",
      "\n",
      "[247 rows x 2 columns]\n"
     ]
    }
   ],
   "source": [
    "BaseCountries1 = codeDim_imf_serie(\"CL_AREA_DOT\")\n",
    "BaseCountries2 = codeDim_imf_serie(\"CL_COUNTERPART_AREA_DOT\")\n",
    "print(BaseCountries1)\n",
    "print(BaseCountries2)"
   ]
  },
  {
   "cell_type": "markdown",
   "id": "d8342fbb-fa4e-482f-b523-719c362f8d6d",
   "metadata": {},
   "source": [
    "## Importing data"
   ]
  },
  {
   "cell_type": "code",
   "execution_count": 80,
   "id": "441553c8-acaa-46cf-988c-3a4ac29d0721",
   "metadata": {
    "tags": []
   },
   "outputs": [
    {
     "name": "stdout",
     "output_type": "stream",
     "text": [
      "http://dataservices.imf.org/REST/SDMX_JSON.svc/CompactData/DOT/A.CI.TMG_CIF_USD.SN\n",
      "OK\n",
      "http://dataservices.imf.org/REST/SDMX_JSON.svc/CompactData/DOT/A.CI.TMG_CIF_USD.FR\n",
      "OK\n",
      "http://dataservices.imf.org/REST/SDMX_JSON.svc/CompactData/DOT/A.CI.TMG_CIF_USD.US\n",
      "OK\n",
      "http://dataservices.imf.org/REST/SDMX_JSON.svc/CompactData/DOT/A.CI.TMG_CIF_USD.IN\n",
      "OK\n",
      "http://dataservices.imf.org/REST/SDMX_JSON.svc/CompactData/DOT/A.SN.TMG_CIF_USD.CI\n",
      "OK\n",
      "http://dataservices.imf.org/REST/SDMX_JSON.svc/CompactData/DOT/A.SN.TMG_CIF_USD.FR\n",
      "OK\n",
      "http://dataservices.imf.org/REST/SDMX_JSON.svc/CompactData/DOT/A.SN.TMG_CIF_USD.US\n",
      "OK\n",
      "http://dataservices.imf.org/REST/SDMX_JSON.svc/CompactData/DOT/A.SN.TMG_CIF_USD.IN\n",
      "OK\n",
      "http://dataservices.imf.org/REST/SDMX_JSON.svc/CompactData/DOT/A.FR.TMG_CIF_USD.CI\n",
      "OK\n",
      "http://dataservices.imf.org/REST/SDMX_JSON.svc/CompactData/DOT/A.FR.TMG_CIF_USD.SN\n",
      "OK\n",
      "http://dataservices.imf.org/REST/SDMX_JSON.svc/CompactData/DOT/A.FR.TMG_CIF_USD.US\n",
      "OK\n",
      "http://dataservices.imf.org/REST/SDMX_JSON.svc/CompactData/DOT/A.FR.TMG_CIF_USD.IN\n",
      "OK\n",
      "http://dataservices.imf.org/REST/SDMX_JSON.svc/CompactData/DOT/A.US.TMG_CIF_USD.CI\n",
      "OK\n",
      "http://dataservices.imf.org/REST/SDMX_JSON.svc/CompactData/DOT/A.US.TMG_CIF_USD.SN\n",
      "OK\n",
      "http://dataservices.imf.org/REST/SDMX_JSON.svc/CompactData/DOT/A.US.TMG_CIF_USD.FR\n",
      "OK\n",
      "http://dataservices.imf.org/REST/SDMX_JSON.svc/CompactData/DOT/A.US.TMG_CIF_USD.IN\n",
      "OK\n",
      "http://dataservices.imf.org/REST/SDMX_JSON.svc/CompactData/DOT/A.IN.TMG_CIF_USD.CI\n",
      "OK\n",
      "http://dataservices.imf.org/REST/SDMX_JSON.svc/CompactData/DOT/A.IN.TMG_CIF_USD.SN\n",
      "OK\n",
      "http://dataservices.imf.org/REST/SDMX_JSON.svc/CompactData/DOT/A.IN.TMG_CIF_USD.FR\n",
      "OK\n",
      "http://dataservices.imf.org/REST/SDMX_JSON.svc/CompactData/DOT/A.IN.TMG_CIF_USD.US\n",
      "OK\n"
     ]
    }
   ],
   "source": [
    "import time\n",
    "# !pip install datatable\n",
    "import datatable as dt\n",
    "\n",
    "url = 'http://dataservices.imf.org/REST/SDMX_JSON.svc/'\n",
    "\n",
    "## After reviewing the whole list i decided i'm interested in 5 countries bi-lateral export data\n",
    "countries1=['CI', \t'SN', \t'FR',\t'US',\t'IN']\n",
    "countries2=['CI', \t'SN', \t'FR',\t'US',\t'IN']\n",
    "\n",
    "AllcountryData = pd.DataFrame()\n",
    "max_retries = 2   # retry twice because of limitations in terms of number of requests per second\n",
    "retry_delay = 5  # in case of failure\n",
    "\n",
    "for i in countries1:\n",
    "    for j in countries2:\n",
    "        if i!=j:            \n",
    "            time.sleep(5)\n",
    "            key = f'CompactData/DOT/A.{i}.TMG_CIF_USD.{j}'\n",
    "            print(url+key)\n",
    "            \n",
    "            for _ in range(max_retries):\n",
    "                try:\n",
    "                    data = (requests.get(f'{url}{key}').json()['CompactData']['DataSet']['Series'])\n",
    "                    print(\"OK\")\n",
    "                    break\n",
    "                except Exception as e:\n",
    "                    print(\"The request didn't work:\", e)\n",
    "                    time.sleep(retry_delay)  # Wait before retrying\n",
    "\n",
    "            try:\n",
    "                data = (requests.get(f'{url}{key}').json()['CompactData']['DataSet']['Series'])\n",
    "                data_list = [[obs.get('@TIME_PERIOD'), obs.get('@OBS_VALUE')] for obs in data['Obs']]\n",
    "                df = pd.DataFrame(data_list, columns=['date', 'value'])\n",
    "                df[\"ExportCountry1\"], df[\"ExportCountry2\"]=[i, j]\n",
    "                AllcountryData = AllcountryData.append(df)\n",
    "            except Exception as e:\n",
    "                print(\"An unknown error occurred:\", e)"
   ]
  },
  {
   "cell_type": "markdown",
   "id": "6109daab-99f0-402e-8c9d-7aa4744d5f96",
   "metadata": {},
   "source": [
    "## Storing data"
   ]
  },
  {
   "cell_type": "code",
   "execution_count": 81,
   "id": "1f5b3163-aab2-4480-b536-ef4e8d43af52",
   "metadata": {
    "tags": []
   },
   "outputs": [
    {
     "data": {
      "text/html": [
       "<div class='datatable'>\n",
       "  <table class='frame'>\n",
       "  <thead>\n",
       "    <tr class='colnames'><td class='row_index'></td><th>date</th><th>value</th><th>ExportCountry1</th><th>ExportCountry2</th></tr>\n",
       "    <tr class='coltypes'><td class='row_index'></td><td class='str' title='str32'>&#x25AA;&#x25AA;&#x25AA;&#x25AA;</td><td class='str' title='str32'>&#x25AA;&#x25AA;&#x25AA;&#x25AA;</td><td class='str' title='str32'>&#x25AA;&#x25AA;&#x25AA;&#x25AA;</td><td class='str' title='str32'>&#x25AA;&#x25AA;&#x25AA;&#x25AA;</td></tr>\n",
       "  </thead>\n",
       "  <tbody>\n",
       "    <tr><td class='row_index'>0</td><td>1962</td><td>8.8</td><td>CI</td><td>SN</td></tr>\n",
       "    <tr><td class='row_index'>1</td><td>1963</td><td>6.3</td><td>CI</td><td>SN</td></tr>\n",
       "    <tr><td class='row_index'>2</td><td>1964</td><td>6.2</td><td>CI</td><td>SN</td></tr>\n",
       "    <tr><td class='row_index'>3</td><td>1965</td><td>3.9</td><td>CI</td><td>SN</td></tr>\n",
       "    <tr><td class='row_index'>4</td><td>1966</td><td>5.3</td><td>CI</td><td>SN</td></tr>\n",
       "    <tr><td class='row_index'>5</td><td>1967</td><td>5.7</td><td>CI</td><td>SN</td></tr>\n",
       "    <tr><td class='row_index'>6</td><td>1968</td><td>7.3</td><td>CI</td><td>SN</td></tr>\n",
       "    <tr><td class='row_index'>7</td><td>1969</td><td>7.32</td><td>CI</td><td>SN</td></tr>\n",
       "    <tr><td class='row_index'>8</td><td>1970</td><td>10.28</td><td>CI</td><td>SN</td></tr>\n",
       "    <tr><td class='row_index'>9</td><td>1971</td><td>7.19</td><td>CI</td><td>SN</td></tr>\n",
       "    <tr><td class='row_index'>10</td><td>1972</td><td>8.61</td><td>CI</td><td>SN</td></tr>\n",
       "    <tr><td class='row_index'>11</td><td>1973</td><td>13.47</td><td>CI</td><td>SN</td></tr>\n",
       "    <tr><td class='row_index'>12</td><td>1974</td><td>17.99</td><td>CI</td><td>SN</td></tr>\n",
       "    <tr><td class='row_index'>13</td><td>1975</td><td>18.41</td><td>CI</td><td>SN</td></tr>\n",
       "    <tr><td class='row_index'>14</td><td>1976</td><td>18.67</td><td>CI</td><td>SN</td></tr>\n",
       "    <tr><td class='row_index'>&#x22EE;</td><td class='hellipsis'>&#x22EE;</td><td class='hellipsis'>&#x22EE;</td><td class='hellipsis'>&#x22EE;</td><td class='hellipsis'>&#x22EE;</td></tr>\n",
       "    <tr><td class='row_index'>1253</td><td>2018</td><td>33003.03</td><td>IN</td><td>US</td></tr>\n",
       "    <tr><td class='row_index'>1254</td><td>2019</td><td>34951.02</td><td>IN</td><td>US</td></tr>\n",
       "    <tr><td class='row_index'>1255</td><td>2020</td><td>26592.490959</td><td>IN</td><td>US</td></tr>\n",
       "    <tr><td class='row_index'>1256</td><td>2021</td><td>41388.087388</td><td>IN</td><td>US</td></tr>\n",
       "    <tr><td class='row_index'>1257</td><td>2022</td><td>51707.055279</td><td>IN</td><td>US</td></tr>\n",
       "  </tbody>\n",
       "  </table>\n",
       "  <div class='footer'>\n",
       "    <div class='frame_dimensions'>1258 rows &times; 4 columns</div>\n",
       "  </div>\n",
       "</div>\n"
      ],
      "text/plain": [
       "<Frame#1d7f263d7e0 1258x4>"
      ]
     },
     "execution_count": 81,
     "metadata": {},
     "output_type": "execute_result"
    }
   ],
   "source": [
    "AllcountryData = dt.Frame(AllcountryData)\n",
    "AllcountryData.to_csv('DataImportsCIF.csv')\n",
    "AllcountryData"
   ]
  }
 ],
 "metadata": {
  "kernelspec": {
   "display_name": "Python 3 (ipykernel)",
   "language": "python",
   "name": "python3"
  },
  "language_info": {
   "codemirror_mode": {
    "name": "ipython",
    "version": 3
   },
   "file_extension": ".py",
   "mimetype": "text/x-python",
   "name": "python",
   "nbconvert_exporter": "python",
   "pygments_lexer": "ipython3",
   "version": "3.9.7"
  }
 },
 "nbformat": 4,
 "nbformat_minor": 5
}
